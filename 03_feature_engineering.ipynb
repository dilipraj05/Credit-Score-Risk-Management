{
 "cells": [
  {
   "cell_type": "code",
   "execution_count": 1,
   "id": "1c83c116-9617-40ac-94bc-09f569778dd6",
   "metadata": {},
   "outputs": [],
   "source": [
    "import pandas as pd\n",
    "import numpy as np"
   ]
  },
  {
   "cell_type": "code",
   "execution_count": 3,
   "id": "9840bf90-0640-4740-a83c-2573dc7522f9",
   "metadata": {},
   "outputs": [],
   "source": [
    "df = pd.read_csv(\"cleaned_credit_data.csv\")"
   ]
  },
  {
   "cell_type": "code",
   "execution_count": 5,
   "id": "435c8565-3217-43d8-8d70-afc98ef9f8a4",
   "metadata": {},
   "outputs": [],
   "source": [
    "df = df.copy()"
   ]
  },
  {
   "cell_type": "code",
   "execution_count": 7,
   "id": "66946a3d-ffc0-4b00-989e-934a098aec64",
   "metadata": {},
   "outputs": [],
   "source": [
    "# Remove extreme debt ratios (e.g., > 1000)\n",
    "df = df[df[\"DebtRatio\"] < 1000]\n",
    "\n",
    "# Remove age < 18\n",
    "df = df[df[\"Age\"] >= 18]"
   ]
  },
  {
   "cell_type": "code",
   "execution_count": 9,
   "id": "d83bf43a-8edf-4736-b744-2c0a0fdf16d9",
   "metadata": {},
   "outputs": [],
   "source": [
    "# Income per dependent (avoid divide by zero)\n",
    "df[\"IncomePerDependent\"] = df[\"MonthlyIncome\"] / (df[\"Dependents\"] + 1)\n",
    "\n",
    "# Total late payments\n",
    "df[\"TotalLatePayments\"] = df[\"Late30_59\"] + df[\"Late60_89\"] + df[\"Late90\"]"
   ]
  },
  {
   "cell_type": "code",
   "execution_count": 11,
   "id": "5467c100-3d8a-4fa2-84eb-9fd9754a6cce",
   "metadata": {},
   "outputs": [],
   "source": [
    "features = [\n",
    "    \"RevolvingUtilization\", \"Age\", \"DebtRatio\", \"MonthlyIncome\",\n",
    "    \"OpenCreditLines\", \"RealEstateLoans\", \"Dependents\",\n",
    "    \"IncomePerDependent\", \"TotalLatePayments\"\n",
    "]\n",
    "\n",
    "target = \"SeriousDlqin2yrs\"\n",
    "\n",
    "X = df[features]\n",
    "y = df[target]"
   ]
  },
  {
   "cell_type": "code",
   "execution_count": 13,
   "id": "b0d1dcec-6487-46e8-8dbf-c31bb4baf2b4",
   "metadata": {},
   "outputs": [],
   "source": [
    "X.to_csv(\"features_X.csv\", index=False)\n",
    "y.to_csv(\"target_y.csv\", index=False)"
   ]
  },
  {
   "cell_type": "code",
   "execution_count": null,
   "id": "6ae45c91-993d-4efa-825c-97759db3c809",
   "metadata": {},
   "outputs": [],
   "source": []
  }
 ],
 "metadata": {
  "kernelspec": {
   "display_name": "Python [conda env:base] *",
   "language": "python",
   "name": "conda-base-py"
  },
  "language_info": {
   "codemirror_mode": {
    "name": "ipython",
    "version": 3
   },
   "file_extension": ".py",
   "mimetype": "text/x-python",
   "name": "python",
   "nbconvert_exporter": "python",
   "pygments_lexer": "ipython3",
   "version": "3.12.7"
  }
 },
 "nbformat": 4,
 "nbformat_minor": 5
}
